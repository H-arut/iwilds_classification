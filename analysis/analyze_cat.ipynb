{
 "cells": [
  {
   "cell_type": "code",
   "execution_count": 42,
   "metadata": {},
   "outputs": [],
   "source": [
    "import os\n",
    "import shutil\n",
    "import pandas as pd\n",
    "import matplotlib.pyplot as plt"
   ]
  },
  {
   "cell_type": "code",
   "execution_count": 3,
   "metadata": {},
   "outputs": [],
   "source": [
    "df = pd.read_csv(\"../data/iwildcam_v2.0/metadata.csv\")"
   ]
  },
  {
   "cell_type": "code",
   "execution_count": 4,
   "metadata": {},
   "outputs": [
    {
     "data": {
      "text/html": [
       "<div>\n",
       "<style scoped>\n",
       "    .dataframe tbody tr th:only-of-type {\n",
       "        vertical-align: middle;\n",
       "    }\n",
       "\n",
       "    .dataframe tbody tr th {\n",
       "        vertical-align: top;\n",
       "    }\n",
       "\n",
       "    .dataframe thead th {\n",
       "        text-align: right;\n",
       "    }\n",
       "</style>\n",
       "<table border=\"1\" class=\"dataframe\">\n",
       "  <thead>\n",
       "    <tr style=\"text-align: right;\">\n",
       "      <th></th>\n",
       "      <th>Unnamed: 0</th>\n",
       "      <th>split</th>\n",
       "      <th>location_remapped</th>\n",
       "      <th>location</th>\n",
       "      <th>sequence_remapped</th>\n",
       "      <th>seq_id</th>\n",
       "      <th>y</th>\n",
       "      <th>category_id</th>\n",
       "      <th>datetime</th>\n",
       "      <th>filename</th>\n",
       "      <th>image_id</th>\n",
       "    </tr>\n",
       "  </thead>\n",
       "  <tbody>\n",
       "    <tr>\n",
       "      <th>0</th>\n",
       "      <td>0</td>\n",
       "      <td>id_test</td>\n",
       "      <td>2</td>\n",
       "      <td>3</td>\n",
       "      <td>2124</td>\n",
       "      <td>300484b8-7d42-11eb-8fb5-0242ac1c0002</td>\n",
       "      <td>1</td>\n",
       "      <td>2</td>\n",
       "      <td>2013-06-01 06:55:00.000</td>\n",
       "      <td>97f407ac-21bc-11ea-a13a-137349068a90.jpg</td>\n",
       "      <td>97f407ac-21bc-11ea-a13a-137349068a90</td>\n",
       "    </tr>\n",
       "    <tr>\n",
       "      <th>1</th>\n",
       "      <td>1</td>\n",
       "      <td>id_test</td>\n",
       "      <td>2</td>\n",
       "      <td>3</td>\n",
       "      <td>2124</td>\n",
       "      <td>300484b8-7d42-11eb-8fb5-0242ac1c0002</td>\n",
       "      <td>1</td>\n",
       "      <td>2</td>\n",
       "      <td>2013-06-01 06:55:01.000</td>\n",
       "      <td>954d7740-21bc-11ea-a13a-137349068a90.jpg</td>\n",
       "      <td>954d7740-21bc-11ea-a13a-137349068a90</td>\n",
       "    </tr>\n",
       "    <tr>\n",
       "      <th>2</th>\n",
       "      <td>2</td>\n",
       "      <td>id_test</td>\n",
       "      <td>2</td>\n",
       "      <td>3</td>\n",
       "      <td>2124</td>\n",
       "      <td>300484b8-7d42-11eb-8fb5-0242ac1c0002</td>\n",
       "      <td>1</td>\n",
       "      <td>2</td>\n",
       "      <td>2013-06-01 06:55:02.000</td>\n",
       "      <td>86b3a4fc-21bc-11ea-a13a-137349068a90.jpg</td>\n",
       "      <td>86b3a4fc-21bc-11ea-a13a-137349068a90</td>\n",
       "    </tr>\n",
       "    <tr>\n",
       "      <th>3</th>\n",
       "      <td>3</td>\n",
       "      <td>id_test</td>\n",
       "      <td>2</td>\n",
       "      <td>3</td>\n",
       "      <td>2124</td>\n",
       "      <td>300484b8-7d42-11eb-8fb5-0242ac1c0002</td>\n",
       "      <td>1</td>\n",
       "      <td>2</td>\n",
       "      <td>2013-06-01 06:55:03.000</td>\n",
       "      <td>90a74fea-21bc-11ea-a13a-137349068a90.jpg</td>\n",
       "      <td>90a74fea-21bc-11ea-a13a-137349068a90</td>\n",
       "    </tr>\n",
       "    <tr>\n",
       "      <th>4</th>\n",
       "      <td>4</td>\n",
       "      <td>id_test</td>\n",
       "      <td>2</td>\n",
       "      <td>3</td>\n",
       "      <td>2124</td>\n",
       "      <td>300484b8-7d42-11eb-8fb5-0242ac1c0002</td>\n",
       "      <td>1</td>\n",
       "      <td>2</td>\n",
       "      <td>2013-06-01 06:55:04.000</td>\n",
       "      <td>88f81d24-21bc-11ea-a13a-137349068a90.jpg</td>\n",
       "      <td>88f81d24-21bc-11ea-a13a-137349068a90</td>\n",
       "    </tr>\n",
       "  </tbody>\n",
       "</table>\n",
       "</div>"
      ],
      "text/plain": [
       "   Unnamed: 0    split  location_remapped  location  sequence_remapped  \\\n",
       "0           0  id_test                  2         3               2124   \n",
       "1           1  id_test                  2         3               2124   \n",
       "2           2  id_test                  2         3               2124   \n",
       "3           3  id_test                  2         3               2124   \n",
       "4           4  id_test                  2         3               2124   \n",
       "\n",
       "                                 seq_id  y  category_id  \\\n",
       "0  300484b8-7d42-11eb-8fb5-0242ac1c0002  1            2   \n",
       "1  300484b8-7d42-11eb-8fb5-0242ac1c0002  1            2   \n",
       "2  300484b8-7d42-11eb-8fb5-0242ac1c0002  1            2   \n",
       "3  300484b8-7d42-11eb-8fb5-0242ac1c0002  1            2   \n",
       "4  300484b8-7d42-11eb-8fb5-0242ac1c0002  1            2   \n",
       "\n",
       "                  datetime                                  filename  \\\n",
       "0  2013-06-01 06:55:00.000  97f407ac-21bc-11ea-a13a-137349068a90.jpg   \n",
       "1  2013-06-01 06:55:01.000  954d7740-21bc-11ea-a13a-137349068a90.jpg   \n",
       "2  2013-06-01 06:55:02.000  86b3a4fc-21bc-11ea-a13a-137349068a90.jpg   \n",
       "3  2013-06-01 06:55:03.000  90a74fea-21bc-11ea-a13a-137349068a90.jpg   \n",
       "4  2013-06-01 06:55:04.000  88f81d24-21bc-11ea-a13a-137349068a90.jpg   \n",
       "\n",
       "                               image_id  \n",
       "0  97f407ac-21bc-11ea-a13a-137349068a90  \n",
       "1  954d7740-21bc-11ea-a13a-137349068a90  \n",
       "2  86b3a4fc-21bc-11ea-a13a-137349068a90  \n",
       "3  90a74fea-21bc-11ea-a13a-137349068a90  \n",
       "4  88f81d24-21bc-11ea-a13a-137349068a90  "
      ]
     },
     "execution_count": 4,
     "metadata": {},
     "output_type": "execute_result"
    }
   ],
   "source": [
    "df.head()"
   ]
  },
  {
   "cell_type": "code",
   "execution_count": 12,
   "metadata": {},
   "outputs": [
    {
     "data": {
      "text/plain": [
       "(array([6.9487e+04, 5.7700e+03, 5.7530e+03, 1.3800e+02, 4.3080e+03,\n",
       "        1.0000e+01, 1.1610e+03, 2.9000e+01, 5.6110e+03, 3.5000e+02,\n",
       "        0.0000e+00, 7.0000e+00, 1.8300e+02, 2.1800e+02, 4.0000e+00,\n",
       "        3.0000e+00, 3.8720e+03, 5.0000e+00, 9.5000e+02, 3.3000e+01,\n",
       "        3.0000e+00, 0.0000e+00, 4.4300e+02, 1.6000e+01, 2.0000e+01,\n",
       "        3.3000e+02, 4.3530e+03, 1.8600e+02, 1.9000e+01, 1.2200e+02,\n",
       "        5.4600e+02, 0.0000e+00, 6.0000e+00, 4.4000e+01, 6.0000e+00,\n",
       "        3.5610e+03, 2.1860e+03, 3.0000e+00, 4.8000e+01, 8.4400e+03,\n",
       "        3.3800e+02, 9.0000e+00, 0.0000e+00, 6.1000e+02, 7.4000e+01,\n",
       "        2.3600e+02, 1.6000e+02, 4.4900e+02, 7.2000e+01, 6.0000e+00,\n",
       "        3.7000e+01, 1.7290e+03, 0.0000e+00, 2.2550e+03, 1.3920e+03,\n",
       "        1.2000e+01, 1.0000e+00, 3.4260e+03, 5.1300e+02, 4.4000e+01,\n",
       "        3.0000e+00, 2.8000e+01, 1.2000e+01, 0.0000e+00, 9.0000e+00,\n",
       "        2.7000e+01, 5.0000e+00, 7.5000e+01, 1.5000e+01, 3.0000e+00,\n",
       "        2.1000e+01, 5.4900e+02, 7.0000e+00, 0.0000e+00, 2.5000e+01,\n",
       "        8.7100e+02, 2.4000e+02, 1.2800e+02, 2.8000e+01, 2.5300e+02,\n",
       "        6.2000e+01, 5.5000e+01, 1.2000e+01, 8.0000e+00, 0.0000e+00,\n",
       "        5.7000e+01, 1.6000e+01, 9.9000e+01, 6.0000e+00, 5.0000e+00,\n",
       "        1.5000e+02, 7.0000e+00, 1.1000e+02, 8.0000e+00, 0.0000e+00,\n",
       "        2.0000e+00, 1.2960e+03, 7.0000e+01, 1.9270e+03, 4.7000e+02,\n",
       "        1.0000e+00, 1.0000e+00, 5.1100e+02, 2.0000e+00, 6.2000e+02,\n",
       "        0.0000e+00, 9.4600e+02, 3.6000e+01, 1.9000e+01, 2.1000e+01,\n",
       "        3.9000e+01, 6.0000e+00, 1.0100e+02, 1.5000e+01, 7.0000e+00,\n",
       "        0.0000e+00, 1.0000e+00, 9.0000e+01, 2.9000e+01, 4.0000e+01,\n",
       "        1.4000e+01, 1.0000e+00, 4.0000e+00, 3.3000e+02, 1.0990e+03,\n",
       "        1.2480e+03, 0.0000e+00, 1.1460e+03, 7.4140e+03, 9.3400e+02,\n",
       "        1.5600e+02, 8.0000e+01, 7.5500e+02, 3.0000e+00, 6.0000e+00,\n",
       "        6.0000e+00, 0.0000e+00, 9.0000e+00, 2.1000e+01, 7.0000e+01,\n",
       "        2.1900e+02, 3.0000e+00, 3.0000e+00, 1.5000e+01, 1.5000e+01,\n",
       "        1.2000e+01, 6.9000e+01, 0.0000e+00, 2.1000e+01, 1.5000e+01,\n",
       "        3.0000e+00, 1.0100e+02, 9.0000e+00, 9.0000e+00, 1.1000e+01,\n",
       "        6.0000e+00, 3.2000e+01, 0.0000e+00, 6.0000e+00, 3.2000e+01,\n",
       "        4.4220e+03, 1.6282e+04, 1.2408e+04, 2.9590e+03, 3.3520e+03,\n",
       "        1.4600e+02, 1.3290e+03, 1.3000e+03, 0.0000e+00, 3.7950e+03,\n",
       "        9.0000e+01, 1.1090e+03, 1.2000e+02, 4.8000e+01, 2.3000e+01,\n",
       "        9.0000e+00, 1.0000e+00, 6.0000e+00, 0.0000e+00, 2.0000e+00,\n",
       "        1.0000e+00, 1.1000e+01, 5.0000e+00, 2.7000e+01, 3.0000e+00,\n",
       "        7.0000e+00, 1.0000e+00, 3.0000e+00, 7.0000e+01, 0.0000e+00,\n",
       "        1.5980e+03, 2.5400e+02, 9.0000e+01, 2.0000e+01, 1.2000e+02,\n",
       "        3.8000e+02, 2.3000e+02, 1.8000e+02, 1.0000e+01, 1.0000e+01]),\n",
       " array([  0.   ,   0.905,   1.81 ,   2.715,   3.62 ,   4.525,   5.43 ,\n",
       "          6.335,   7.24 ,   8.145,   9.05 ,   9.955,  10.86 ,  11.765,\n",
       "         12.67 ,  13.575,  14.48 ,  15.385,  16.29 ,  17.195,  18.1  ,\n",
       "         19.005,  19.91 ,  20.815,  21.72 ,  22.625,  23.53 ,  24.435,\n",
       "         25.34 ,  26.245,  27.15 ,  28.055,  28.96 ,  29.865,  30.77 ,\n",
       "         31.675,  32.58 ,  33.485,  34.39 ,  35.295,  36.2  ,  37.105,\n",
       "         38.01 ,  38.915,  39.82 ,  40.725,  41.63 ,  42.535,  43.44 ,\n",
       "         44.345,  45.25 ,  46.155,  47.06 ,  47.965,  48.87 ,  49.775,\n",
       "         50.68 ,  51.585,  52.49 ,  53.395,  54.3  ,  55.205,  56.11 ,\n",
       "         57.015,  57.92 ,  58.825,  59.73 ,  60.635,  61.54 ,  62.445,\n",
       "         63.35 ,  64.255,  65.16 ,  66.065,  66.97 ,  67.875,  68.78 ,\n",
       "         69.685,  70.59 ,  71.495,  72.4  ,  73.305,  74.21 ,  75.115,\n",
       "         76.02 ,  76.925,  77.83 ,  78.735,  79.64 ,  80.545,  81.45 ,\n",
       "         82.355,  83.26 ,  84.165,  85.07 ,  85.975,  86.88 ,  87.785,\n",
       "         88.69 ,  89.595,  90.5  ,  91.405,  92.31 ,  93.215,  94.12 ,\n",
       "         95.025,  95.93 ,  96.835,  97.74 ,  98.645,  99.55 , 100.455,\n",
       "        101.36 , 102.265, 103.17 , 104.075, 104.98 , 105.885, 106.79 ,\n",
       "        107.695, 108.6  , 109.505, 110.41 , 111.315, 112.22 , 113.125,\n",
       "        114.03 , 114.935, 115.84 , 116.745, 117.65 , 118.555, 119.46 ,\n",
       "        120.365, 121.27 , 122.175, 123.08 , 123.985, 124.89 , 125.795,\n",
       "        126.7  , 127.605, 128.51 , 129.415, 130.32 , 131.225, 132.13 ,\n",
       "        133.035, 133.94 , 134.845, 135.75 , 136.655, 137.56 , 138.465,\n",
       "        139.37 , 140.275, 141.18 , 142.085, 142.99 , 143.895, 144.8  ,\n",
       "        145.705, 146.61 , 147.515, 148.42 , 149.325, 150.23 , 151.135,\n",
       "        152.04 , 152.945, 153.85 , 154.755, 155.66 , 156.565, 157.47 ,\n",
       "        158.375, 159.28 , 160.185, 161.09 , 161.995, 162.9  , 163.805,\n",
       "        164.71 , 165.615, 166.52 , 167.425, 168.33 , 169.235, 170.14 ,\n",
       "        171.045, 171.95 , 172.855, 173.76 , 174.665, 175.57 , 176.475,\n",
       "        177.38 , 178.285, 179.19 , 180.095, 181.   ]),\n",
       " <BarContainer object of 200 artists>)"
      ]
     },
     "execution_count": 12,
     "metadata": {},
     "output_type": "execute_result"
    },
    {
     "data": {
      "image/png": "[encoded data removed]",
      "text/plain": [
       "<Figure size 2000x500 with 1 Axes>"
      ]
     },
     "metadata": {},
     "output_type": "display_data"
    }
   ],
   "source": [
    "plt.figure(figsize=(20,5))\n",
    "plt.hist(df[\"y\"], 200)"
   ]
  },
  {
   "cell_type": "code",
   "execution_count": 16,
   "metadata": {},
   "outputs": [
    {
     "data": {
      "text/plain": [
       "(array([4.8021e+04, 4.0780e+03, 3.9860e+03, 4.8000e+01, 3.0910e+03,\n",
       "        3.0000e+00, 9.7700e+02, 1.3000e+01, 3.5840e+03, 1.8000e+02,\n",
       "        6.0000e+00, 9.2000e+01, 1.3600e+02, 1.0000e+00, 3.0000e+00,\n",
       "        1.9660e+03, 2.0000e+00, 7.3000e+02, 2.9000e+01, 3.0000e+00,\n",
       "        2.4300e+02, 5.0000e+00, 2.0000e+01, 1.1700e+02, 1.7510e+03,\n",
       "        1.0200e+02, 1.0000e+00, 7.5000e+01, 4.5900e+02, 6.0000e+00,\n",
       "        2.9000e+01, 6.0000e+00, 1.2460e+03, 1.5300e+03, 3.0000e+00,\n",
       "        3.9000e+01, 2.6420e+03, 8.1000e+01, 6.0000e+00, 1.9000e+02,\n",
       "        3.2000e+01, 1.5800e+02, 1.0000e+02, 1.0600e+02, 3.8000e+01,\n",
       "        3.0000e+00, 1.9000e+01, 1.4440e+03, 1.5450e+03, 1.0420e+03,\n",
       "        1.2000e+01, 1.0000e+00, 1.9130e+03, 4.5000e+02, 4.4000e+01,\n",
       "        3.0000e+00, 2.8000e+01, 1.2000e+01, 9.0000e+00, 2.1000e+01,\n",
       "        2.0000e+00, 1.2000e+01, 1.5000e+01, 3.0000e+00, 1.2000e+01,\n",
       "        4.3300e+02, 7.0000e+00, 8.0000e+00, 6.0500e+02, 1.4600e+02,\n",
       "        1.0800e+02, 2.4000e+01, 1.6100e+02, 4.6000e+01, 3.8000e+01,\n",
       "        9.0000e+00, 8.0000e+00, 9.0000e+00, 1.2000e+01, 1.2000e+01,\n",
       "        6.0000e+00, 2.0000e+00, 1.2800e+02, 1.0000e+00, 1.1000e+02,\n",
       "        4.0000e+00, 2.0000e+00, 7.1600e+02, 6.0000e+01, 1.4280e+03,\n",
       "        3.5000e+02, 1.0000e+00, 1.0000e+00, 3.8000e+02, 2.0000e+00,\n",
       "        3.6700e+02, 5.3800e+02, 1.5000e+01, 1.3000e+01, 1.8000e+01,\n",
       "        3.0000e+01, 6.0000e+00, 7.0000e+01, 1.3000e+01, 7.0000e+00,\n",
       "        1.0000e+00, 7.3000e+01, 1.4000e+01, 2.9000e+01, 8.0000e+00,\n",
       "        1.0000e+00, 4.0000e+00, 2.0000e+02, 7.7100e+02, 6.8400e+02,\n",
       "        8.6500e+02, 4.0230e+03, 4.5700e+02, 8.7000e+01, 3.6000e+01,\n",
       "        5.3100e+02, 3.0000e+00, 6.0000e+00, 6.0000e+00, 9.0000e+00,\n",
       "        1.5000e+01, 3.0000e+00, 2.0100e+02, 3.0000e+00, 3.0000e+00,\n",
       "        1.5000e+01, 1.5000e+01, 9.0000e+00, 6.0000e+01, 2.1000e+01,\n",
       "        3.0000e+00, 3.0000e+00, 6.2000e+01, 9.0000e+00, 9.0000e+00,\n",
       "        1.1000e+01, 6.0000e+00, 9.0000e+00, 6.0000e+00, 2.5000e+01,\n",
       "        2.7400e+03, 1.0267e+04, 7.5340e+03, 1.7090e+03, 2.4010e+03,\n",
       "        5.0000e+01, 9.0400e+02, 1.1500e+03, 3.1770e+03, 2.0000e+01,\n",
       "        9.4900e+02, 1.0000e+02, 3.0000e+01, 1.8000e+01, 7.0000e+00,\n",
       "        1.0000e+00, 6.0000e+00, 2.0000e+00, 1.0000e+00, 5.0000e+00,\n",
       "        4.0000e+00, 2.3000e+01, 3.0000e+00, 3.0000e+00, 1.0000e+00,\n",
       "        3.0000e+00, 5.5000e+01, 1.1680e+03, 1.9400e+02, 8.0000e+01,\n",
       "        1.0000e+01, 8.0000e+01, 2.9000e+02, 8.0000e+01, 1.0000e+01,\n",
       "        2.0000e+01]),\n",
       " array([  0.,   1.,   2.,   3.,   4.,   5.,   6.,   7.,   8.,   9.,  10.,\n",
       "         11.,  12.,  13.,  14.,  15.,  16.,  17.,  18.,  19.,  20.,  21.,\n",
       "         22.,  23.,  24.,  25.,  26.,  27.,  28.,  29.,  30.,  31.,  32.,\n",
       "         33.,  34.,  35.,  36.,  37.,  38.,  39.,  40.,  41.,  42.,  43.,\n",
       "         44.,  45.,  46.,  47.,  48.,  49.,  50.,  51.,  52.,  53.,  54.,\n",
       "         55.,  56.,  57.,  58.,  59.,  60.,  61.,  62.,  63.,  64.,  65.,\n",
       "         66.,  67.,  68.,  69.,  70.,  71.,  72.,  73.,  74.,  75.,  76.,\n",
       "         77.,  78.,  79.,  80.,  81.,  82.,  83.,  84.,  85.,  86.,  87.,\n",
       "         88.,  89.,  90.,  91.,  92.,  93.,  94.,  95.,  96.,  97.,  98.,\n",
       "         99., 100., 101., 102., 103., 104., 105., 106., 107., 108., 109.,\n",
       "        110., 111., 112., 113., 114., 115., 116., 117., 118., 119., 120.,\n",
       "        121., 122., 123., 124., 125., 126., 127., 128., 129., 130., 131.,\n",
       "        132., 133., 134., 135., 136., 137., 138., 139., 140., 141., 142.,\n",
       "        143., 144., 145., 146., 147., 148., 149., 150., 151., 152., 153.,\n",
       "        154., 155., 156., 157., 158., 159., 160., 161., 162., 163., 164.,\n",
       "        165., 166., 167., 168., 169., 170., 171., 172., 173., 174., 175.,\n",
       "        176., 177., 178., 179., 180., 181.]),\n",
       " <BarContainer object of 181 artists>)"
      ]
     },
     "execution_count": 16,
     "metadata": {},
     "output_type": "execute_result"
    },
    {
     "data": {
      "image/png": "[encoded data removed]",
      "text/plain": [
       "<Figure size 2000x500 with 1 Axes>"
      ]
     },
     "metadata": {},
     "output_type": "display_data"
    }
   ],
   "source": [
    "plt.figure(figsize=(20,5))\n",
    "plt.hist(df[df['split']=='train'][\"y\"], max(df['y']))"
   ]
  },
  {
   "cell_type": "code",
   "execution_count": 14,
   "metadata": {},
   "outputs": [
    {
     "data": {
      "text/plain": [
       "(array([4.8021e+04, 4.0780e+03, 3.9860e+03, 4.8000e+01, 3.0910e+03,\n",
       "        3.0000e+00, 9.7700e+02, 1.3000e+01, 3.5840e+03, 1.8000e+02,\n",
       "        6.0000e+00, 9.2000e+01, 1.3600e+02, 1.0000e+00, 3.0000e+00,\n",
       "        1.9660e+03, 2.0000e+00, 7.3000e+02, 2.9000e+01, 3.0000e+00,\n",
       "        2.4300e+02, 5.0000e+00, 2.0000e+01, 1.1700e+02, 1.7510e+03,\n",
       "        1.0200e+02, 1.0000e+00, 7.5000e+01, 4.5900e+02, 6.0000e+00,\n",
       "        2.9000e+01, 6.0000e+00, 1.2460e+03, 1.5300e+03, 3.0000e+00,\n",
       "        3.9000e+01, 2.6420e+03, 8.1000e+01, 6.0000e+00, 1.9000e+02,\n",
       "        3.2000e+01, 1.5800e+02, 1.0000e+02, 1.0600e+02, 3.8000e+01,\n",
       "        3.0000e+00, 1.9000e+01, 1.4440e+03, 1.5450e+03, 1.0420e+03,\n",
       "        1.2000e+01, 1.0000e+00, 1.9130e+03, 4.5000e+02, 4.4000e+01,\n",
       "        3.0000e+00, 2.8000e+01, 1.2000e+01, 9.0000e+00, 2.1000e+01,\n",
       "        2.0000e+00, 1.2000e+01, 1.5000e+01, 3.0000e+00, 1.2000e+01,\n",
       "        4.3300e+02, 7.0000e+00, 8.0000e+00, 6.0500e+02, 1.4600e+02,\n",
       "        1.0800e+02, 2.4000e+01, 1.6100e+02, 4.6000e+01, 3.8000e+01,\n",
       "        9.0000e+00, 8.0000e+00, 9.0000e+00, 1.2000e+01, 1.2000e+01,\n",
       "        6.0000e+00, 2.0000e+00, 1.2800e+02, 1.0000e+00, 1.1000e+02,\n",
       "        4.0000e+00, 2.0000e+00, 7.1600e+02, 6.0000e+01, 1.4280e+03,\n",
       "        3.5000e+02, 1.0000e+00, 1.0000e+00, 3.8000e+02, 2.0000e+00,\n",
       "        3.6700e+02, 5.3800e+02, 1.5000e+01, 1.3000e+01, 1.8000e+01,\n",
       "        3.0000e+01, 6.0000e+00, 7.0000e+01, 1.3000e+01, 7.0000e+00,\n",
       "        1.0000e+00, 7.3000e+01, 1.4000e+01, 2.9000e+01, 8.0000e+00,\n",
       "        1.0000e+00, 4.0000e+00, 2.0000e+02, 7.7100e+02, 6.8400e+02,\n",
       "        8.6500e+02, 4.0230e+03, 4.5700e+02, 8.7000e+01, 3.6000e+01,\n",
       "        5.3100e+02, 3.0000e+00, 6.0000e+00, 6.0000e+00, 9.0000e+00,\n",
       "        1.5000e+01, 3.0000e+00, 2.0100e+02, 3.0000e+00, 3.0000e+00,\n",
       "        1.5000e+01, 1.5000e+01, 9.0000e+00, 6.0000e+01, 2.1000e+01,\n",
       "        3.0000e+00, 3.0000e+00, 6.2000e+01, 9.0000e+00, 9.0000e+00,\n",
       "        1.1000e+01, 6.0000e+00, 9.0000e+00, 6.0000e+00, 2.5000e+01,\n",
       "        2.7400e+03, 1.0267e+04, 7.5340e+03, 1.7090e+03, 2.4010e+03,\n",
       "        5.0000e+01, 9.0400e+02, 1.1500e+03, 3.1770e+03, 2.0000e+01,\n",
       "        9.4900e+02, 1.0000e+02, 3.0000e+01, 1.8000e+01, 7.0000e+00,\n",
       "        1.0000e+00, 6.0000e+00, 2.0000e+00, 1.0000e+00, 5.0000e+00,\n",
       "        4.0000e+00, 2.3000e+01, 3.0000e+00, 3.0000e+00, 1.0000e+00,\n",
       "        3.0000e+00, 5.5000e+01, 1.1680e+03, 1.9400e+02, 8.0000e+01,\n",
       "        1.0000e+01, 8.0000e+01, 2.9000e+02, 8.0000e+01, 1.0000e+01,\n",
       "        2.0000e+01]),\n",
       " array([  0.,   1.,   2.,   3.,   4.,   5.,   6.,   7.,   8.,   9.,  10.,\n",
       "         11.,  12.,  13.,  14.,  15.,  16.,  17.,  18.,  19.,  20.,  21.,\n",
       "         22.,  23.,  24.,  25.,  26.,  27.,  28.,  29.,  30.,  31.,  32.,\n",
       "         33.,  34.,  35.,  36.,  37.,  38.,  39.,  40.,  41.,  42.,  43.,\n",
       "         44.,  45.,  46.,  47.,  48.,  49.,  50.,  51.,  52.,  53.,  54.,\n",
       "         55.,  56.,  57.,  58.,  59.,  60.,  61.,  62.,  63.,  64.,  65.,\n",
       "         66.,  67.,  68.,  69.,  70.,  71.,  72.,  73.,  74.,  75.,  76.,\n",
       "         77.,  78.,  79.,  80.,  81.,  82.,  83.,  84.,  85.,  86.,  87.,\n",
       "         88.,  89.,  90.,  91.,  92.,  93.,  94.,  95.,  96.,  97.,  98.,\n",
       "         99., 100., 101., 102., 103., 104., 105., 106., 107., 108., 109.,\n",
       "        110., 111., 112., 113., 114., 115., 116., 117., 118., 119., 120.,\n",
       "        121., 122., 123., 124., 125., 126., 127., 128., 129., 130., 131.,\n",
       "        132., 133., 134., 135., 136., 137., 138., 139., 140., 141., 142.,\n",
       "        143., 144., 145., 146., 147., 148., 149., 150., 151., 152., 153.,\n",
       "        154., 155., 156., 157., 158., 159., 160., 161., 162., 163., 164.,\n",
       "        165., 166., 167., 168., 169., 170., 171., 172., 173., 174., 175.,\n",
       "        176., 177., 178., 179., 180., 181.]),\n",
       " <BarContainer object of 181 artists>)"
      ]
     },
     "execution_count": 14,
     "metadata": {},
     "output_type": "execute_result"
    },
    {
     "data": {
      "image/png": "[encoded data removed]",
      "text/plain": [
       "<Figure size 2000x500 with 1 Axes>"
      ]
     },
     "metadata": {},
     "output_type": "display_data"
    }
   ],
   "source": [
    "plt.figure(figsize=(20,5))\n",
    "plt.hist(df[df['split']=='train'][\"y\"], max(df['y']))"
   ]
  },
  {
   "cell_type": "code",
   "execution_count": 17,
   "metadata": {},
   "outputs": [
    {
     "data": {
      "text/plain": [
       "(array([2.399e+03, 1.430e+03, 2.100e+02, 0.000e+00, 2.410e+02, 0.000e+00,\n",
       "        7.000e+01, 0.000e+00, 4.700e+02, 4.000e+01, 0.000e+00, 9.000e+01,\n",
       "        1.200e+01, 0.000e+00, 0.000e+00, 4.960e+02, 0.000e+00, 0.000e+00,\n",
       "        0.000e+00, 0.000e+00, 5.000e+01, 0.000e+00, 0.000e+00, 5.100e+01,\n",
       "        2.760e+02, 0.000e+00, 0.000e+00, 0.000e+00, 0.000e+00, 0.000e+00,\n",
       "        0.000e+00, 0.000e+00, 1.370e+02, 1.130e+02, 0.000e+00, 0.000e+00,\n",
       "        2.670e+02, 3.000e+01, 0.000e+00, 1.000e+02, 0.000e+00, 1.500e+01,\n",
       "        0.000e+00, 2.600e+01, 3.000e+00, 0.000e+00, 3.000e+00, 0.000e+00,\n",
       "        2.370e+02, 8.100e+01, 0.000e+00, 0.000e+00, 1.970e+02, 0.000e+00,\n",
       "        0.000e+00, 0.000e+00, 0.000e+00, 0.000e+00, 0.000e+00, 0.000e+00,\n",
       "        0.000e+00, 0.000e+00, 0.000e+00, 0.000e+00, 6.000e+00, 2.000e+00,\n",
       "        0.000e+00, 0.000e+00, 1.200e+02, 0.000e+00, 3.000e+00, 0.000e+00,\n",
       "        2.100e+01, 5.000e+00, 1.200e+01, 0.000e+00, 0.000e+00, 4.200e+01,\n",
       "        4.000e+00, 0.000e+00, 0.000e+00, 0.000e+00, 0.000e+00, 0.000e+00,\n",
       "        0.000e+00, 1.000e+00, 0.000e+00, 1.700e+02, 0.000e+00, 8.000e+01,\n",
       "        0.000e+00, 6.000e+01, 0.000e+00, 0.000e+00, 3.500e+01, 0.000e+00,\n",
       "        0.000e+00, 9.000e+00, 0.000e+00, 0.000e+00, 0.000e+00, 0.000e+00,\n",
       "        0.000e+00, 1.700e+01, 0.000e+00, 0.000e+00, 0.000e+00, 8.000e+00,\n",
       "        9.000e+00, 0.000e+00, 0.000e+00, 0.000e+00, 0.000e+00, 4.600e+01,\n",
       "        1.400e+01, 2.010e+02, 8.400e+01, 9.310e+02, 3.540e+02, 2.400e+01,\n",
       "        9.000e+00, 9.000e+01, 0.000e+00, 0.000e+00, 0.000e+00, 0.000e+00,\n",
       "        0.000e+00, 0.000e+00, 0.000e+00, 0.000e+00, 0.000e+00, 0.000e+00,\n",
       "        0.000e+00, 0.000e+00, 3.000e+00, 0.000e+00, 0.000e+00, 0.000e+00,\n",
       "        3.000e+00, 0.000e+00, 0.000e+00, 0.000e+00, 0.000e+00, 0.000e+00,\n",
       "        0.000e+00, 0.000e+00, 3.100e+02, 9.090e+02, 2.165e+03, 8.000e+02,\n",
       "        2.330e+02, 7.600e+01, 3.250e+02, 4.000e+01, 1.300e+02, 0.000e+00,\n",
       "        7.000e+01, 0.000e+00, 2.000e+00, 2.000e+00, 2.000e+00, 0.000e+00,\n",
       "        0.000e+00, 0.000e+00, 0.000e+00, 6.000e+00, 0.000e+00, 4.000e+00,\n",
       "        0.000e+00, 0.000e+00, 0.000e+00, 0.000e+00, 0.000e+00, 2.200e+02,\n",
       "        4.000e+01, 1.000e+01, 1.000e+01, 3.000e+01, 0.000e+00, 0.000e+00,\n",
       "        1.700e+02]),\n",
       " array([  0.        ,   0.98895028,   1.97790055,   2.96685083,\n",
       "          3.9558011 ,   4.94475138,   5.93370166,   6.92265193,\n",
       "          7.91160221,   8.90055249,   9.88950276,  10.87845304,\n",
       "         11.86740331,  12.85635359,  13.84530387,  14.83425414,\n",
       "         15.82320442,  16.8121547 ,  17.80110497,  18.79005525,\n",
       "         19.77900552,  20.7679558 ,  21.75690608,  22.74585635,\n",
       "         23.73480663,  24.72375691,  25.71270718,  26.70165746,\n",
       "         27.69060773,  28.67955801,  29.66850829,  30.65745856,\n",
       "         31.64640884,  32.63535912,  33.62430939,  34.61325967,\n",
       "         35.60220994,  36.59116022,  37.5801105 ,  38.56906077,\n",
       "         39.55801105,  40.54696133,  41.5359116 ,  42.52486188,\n",
       "         43.51381215,  44.50276243,  45.49171271,  46.48066298,\n",
       "         47.46961326,  48.45856354,  49.44751381,  50.43646409,\n",
       "         51.42541436,  52.41436464,  53.40331492,  54.39226519,\n",
       "         55.38121547,  56.37016575,  57.35911602,  58.3480663 ,\n",
       "         59.33701657,  60.32596685,  61.31491713,  62.3038674 ,\n",
       "         63.29281768,  64.28176796,  65.27071823,  66.25966851,\n",
       "         67.24861878,  68.23756906,  69.22651934,  70.21546961,\n",
       "         71.20441989,  72.19337017,  73.18232044,  74.17127072,\n",
       "         75.16022099,  76.14917127,  77.13812155,  78.12707182,\n",
       "         79.1160221 ,  80.10497238,  81.09392265,  82.08287293,\n",
       "         83.0718232 ,  84.06077348,  85.04972376,  86.03867403,\n",
       "         87.02762431,  88.01657459,  89.00552486,  89.99447514,\n",
       "         90.98342541,  91.97237569,  92.96132597,  93.95027624,\n",
       "         94.93922652,  95.9281768 ,  96.91712707,  97.90607735,\n",
       "         98.89502762,  99.8839779 , 100.87292818, 101.86187845,\n",
       "        102.85082873, 103.83977901, 104.82872928, 105.81767956,\n",
       "        106.80662983, 107.79558011, 108.78453039, 109.77348066,\n",
       "        110.76243094, 111.75138122, 112.74033149, 113.72928177,\n",
       "        114.71823204, 115.70718232, 116.6961326 , 117.68508287,\n",
       "        118.67403315, 119.66298343, 120.6519337 , 121.64088398,\n",
       "        122.62983425, 123.61878453, 124.60773481, 125.59668508,\n",
       "        126.58563536, 127.57458564, 128.56353591, 129.55248619,\n",
       "        130.54143646, 131.53038674, 132.51933702, 133.50828729,\n",
       "        134.49723757, 135.48618785, 136.47513812, 137.4640884 ,\n",
       "        138.45303867, 139.44198895, 140.43093923, 141.4198895 ,\n",
       "        142.40883978, 143.39779006, 144.38674033, 145.37569061,\n",
       "        146.36464088, 147.35359116, 148.34254144, 149.33149171,\n",
       "        150.32044199, 151.30939227, 152.29834254, 153.28729282,\n",
       "        154.27624309, 155.26519337, 156.25414365, 157.24309392,\n",
       "        158.2320442 , 159.22099448, 160.20994475, 161.19889503,\n",
       "        162.1878453 , 163.17679558, 164.16574586, 165.15469613,\n",
       "        166.14364641, 167.13259669, 168.12154696, 169.11049724,\n",
       "        170.09944751, 171.08839779, 172.07734807, 173.06629834,\n",
       "        174.05524862, 175.0441989 , 176.03314917, 177.02209945,\n",
       "        178.01104972, 179.        ]),\n",
       " <BarContainer object of 181 artists>)"
      ]
     },
     "execution_count": 17,
     "metadata": {},
     "output_type": "execute_result"
    },
    {
     "data": {
      "image/png": "[encoded data removed]",
      "text/plain": [
       "<Figure size 2000x500 with 1 Axes>"
      ]
     },
     "metadata": {},
     "output_type": "display_data"
    }
   ],
   "source": [
    "plt.figure(figsize=(20,5))\n",
    "plt.hist(df[df['split']=='val'][\"y\"], max(df['y']))"
   ]
  },
  {
   "cell_type": "code",
   "execution_count": 18,
   "metadata": {},
   "outputs": [
    {
     "data": {
      "text/plain": [
       "(array([1.4106e+04, 2.0000e+00, 1.0870e+03, 8.9000e+01, 7.7600e+02,\n",
       "        6.0000e+00, 4.4000e+01, 1.6000e+01, 1.1260e+03, 4.0000e+01,\n",
       "        1.0000e+00, 1.0000e+00, 2.0000e+01, 3.0000e+00, 0.0000e+00,\n",
       "        1.2400e+03, 3.0000e+00, 1.3000e+02, 1.0000e+00, 0.0000e+00,\n",
       "        1.3000e+02, 9.0000e+00, 0.0000e+00, 1.1700e+02, 1.9860e+03,\n",
       "        6.0000e+01, 1.5000e+01, 3.2000e+01, 7.8000e+01, 0.0000e+00,\n",
       "        0.0000e+00, 0.0000e+00, 2.0940e+03, 1.7100e+02, 0.0000e+00,\n",
       "        9.0000e+00, 5.1910e+03, 1.7700e+02, 3.0000e+00, 2.6000e+02,\n",
       "        4.2000e+01, 5.4000e+01, 3.0000e+01, 3.1100e+02, 2.1000e+01,\n",
       "        0.0000e+00, 0.0000e+00, 1.5000e+01, 1.9600e+02, 2.2900e+02,\n",
       "        9.4000e+01, 0.0000e+00, 0.0000e+00, 7.9200e+02, 0.0000e+00,\n",
       "        0.0000e+00, 0.0000e+00, 0.0000e+00, 0.0000e+00, 0.0000e+00,\n",
       "        3.0000e+00, 0.0000e+00, 6.3000e+01, 0.0000e+00, 0.0000e+00,\n",
       "        0.0000e+00, 9.2000e+01, 0.0000e+00, 1.3000e+01, 4.7000e+01,\n",
       "        2.3000e+01, 7.0000e+00, 1.0000e+00, 5.6000e+01, 1.0000e+00,\n",
       "        4.0000e+00, 0.0000e+00, 0.0000e+00, 6.0000e+00, 0.0000e+00,\n",
       "        8.7000e+01, 0.0000e+00, 0.0000e+00, 0.0000e+00, 6.0000e+00,\n",
       "        0.0000e+00, 3.0000e+00, 0.0000e+00, 3.7000e+02, 1.0000e+01,\n",
       "        0.0000e+00, 2.1000e+02, 6.0000e+01, 0.0000e+00, 0.0000e+00,\n",
       "        6.3000e+01, 0.0000e+00, 2.3900e+02, 1.5800e+02, 6.0000e+00,\n",
       "        3.0000e+00, 0.0000e+00, 3.0000e+00, 0.0000e+00, 5.0000e+00,\n",
       "        0.0000e+00, 0.0000e+00, 0.0000e+00, 8.0000e+00, 6.0000e+00,\n",
       "        1.1000e+01, 0.0000e+00, 0.0000e+00, 0.0000e+00, 2.5000e+01,\n",
       "        1.1200e+02, 1.7800e+02, 6.8000e+01, 1.4200e+03, 3.6000e+01,\n",
       "        3.9000e+01, 2.6000e+01, 5.1000e+01, 0.0000e+00, 0.0000e+00,\n",
       "        0.0000e+00, 0.0000e+00, 0.0000e+00, 6.7000e+01, 1.8000e+01,\n",
       "        0.0000e+00, 0.0000e+00, 0.0000e+00, 0.0000e+00, 0.0000e+00,\n",
       "        0.0000e+00, 6.0000e+00, 0.0000e+00, 1.2000e+01, 0.0000e+00,\n",
       "        0.0000e+00, 0.0000e+00, 0.0000e+00, 0.0000e+00, 0.0000e+00,\n",
       "        0.0000e+00, 0.0000e+00, 5.0000e+00, 9.9000e+02, 3.6980e+03,\n",
       "        2.1160e+03, 2.6000e+02, 6.4800e+02, 1.0000e+01, 6.0000e+01,\n",
       "        6.0000e+01, 2.0000e+02, 0.0000e+00, 6.0000e+01, 0.0000e+00,\n",
       "        0.0000e+00, 3.0000e+00, 0.0000e+00, 0.0000e+00, 0.0000e+00,\n",
       "        0.0000e+00, 0.0000e+00, 0.0000e+00, 0.0000e+00, 0.0000e+00,\n",
       "        0.0000e+00, 0.0000e+00, 0.0000e+00, 0.0000e+00, 1.2000e+01,\n",
       "        1.5000e+02, 1.0000e+01, 0.0000e+00, 0.0000e+00, 1.0000e+01,\n",
       "        7.0000e+01]),\n",
       " array([  0.        ,   0.97790055,   1.9558011 ,   2.93370166,\n",
       "          3.91160221,   4.88950276,   5.86740331,   6.84530387,\n",
       "          7.82320442,   8.80110497,   9.77900552,  10.75690608,\n",
       "         11.73480663,  12.71270718,  13.69060773,  14.66850829,\n",
       "         15.64640884,  16.62430939,  17.60220994,  18.5801105 ,\n",
       "         19.55801105,  20.5359116 ,  21.51381215,  22.49171271,\n",
       "         23.46961326,  24.44751381,  25.42541436,  26.40331492,\n",
       "         27.38121547,  28.35911602,  29.33701657,  30.31491713,\n",
       "         31.29281768,  32.27071823,  33.24861878,  34.22651934,\n",
       "         35.20441989,  36.18232044,  37.16022099,  38.13812155,\n",
       "         39.1160221 ,  40.09392265,  41.0718232 ,  42.04972376,\n",
       "         43.02762431,  44.00552486,  44.98342541,  45.96132597,\n",
       "         46.93922652,  47.91712707,  48.89502762,  49.87292818,\n",
       "         50.85082873,  51.82872928,  52.80662983,  53.78453039,\n",
       "         54.76243094,  55.74033149,  56.71823204,  57.6961326 ,\n",
       "         58.67403315,  59.6519337 ,  60.62983425,  61.60773481,\n",
       "         62.58563536,  63.56353591,  64.54143646,  65.51933702,\n",
       "         66.49723757,  67.47513812,  68.45303867,  69.43093923,\n",
       "         70.40883978,  71.38674033,  72.36464088,  73.34254144,\n",
       "         74.32044199,  75.29834254,  76.27624309,  77.25414365,\n",
       "         78.2320442 ,  79.20994475,  80.1878453 ,  81.16574586,\n",
       "         82.14364641,  83.12154696,  84.09944751,  85.07734807,\n",
       "         86.05524862,  87.03314917,  88.01104972,  88.98895028,\n",
       "         89.96685083,  90.94475138,  91.92265193,  92.90055249,\n",
       "         93.87845304,  94.85635359,  95.83425414,  96.8121547 ,\n",
       "         97.79005525,  98.7679558 ,  99.74585635, 100.72375691,\n",
       "        101.70165746, 102.67955801, 103.65745856, 104.63535912,\n",
       "        105.61325967, 106.59116022, 107.56906077, 108.54696133,\n",
       "        109.52486188, 110.50276243, 111.48066298, 112.45856354,\n",
       "        113.43646409, 114.41436464, 115.39226519, 116.37016575,\n",
       "        117.3480663 , 118.32596685, 119.3038674 , 120.28176796,\n",
       "        121.25966851, 122.23756906, 123.21546961, 124.19337017,\n",
       "        125.17127072, 126.14917127, 127.12707182, 128.10497238,\n",
       "        129.08287293, 130.06077348, 131.03867403, 132.01657459,\n",
       "        132.99447514, 133.97237569, 134.95027624, 135.9281768 ,\n",
       "        136.90607735, 137.8839779 , 138.86187845, 139.83977901,\n",
       "        140.81767956, 141.79558011, 142.77348066, 143.75138122,\n",
       "        144.72928177, 145.70718232, 146.68508287, 147.66298343,\n",
       "        148.64088398, 149.61878453, 150.59668508, 151.57458564,\n",
       "        152.55248619, 153.53038674, 154.50828729, 155.48618785,\n",
       "        156.4640884 , 157.44198895, 158.4198895 , 159.39779006,\n",
       "        160.37569061, 161.35359116, 162.33149171, 163.30939227,\n",
       "        164.28729282, 165.26519337, 166.24309392, 167.22099448,\n",
       "        168.19889503, 169.17679558, 170.15469613, 171.13259669,\n",
       "        172.11049724, 173.08839779, 174.06629834, 175.0441989 ,\n",
       "        176.02209945, 177.        ]),\n",
       " <BarContainer object of 181 artists>)"
      ]
     },
     "execution_count": 18,
     "metadata": {},
     "output_type": "execute_result"
    },
    {
     "data": {
      "image/png": "[encoded data removed]",
      "text/plain": [
       "<Figure size 2000x500 with 1 Axes>"
      ]
     },
     "metadata": {},
     "output_type": "display_data"
    }
   ],
   "source": [
    "plt.figure(figsize=(20,5))\n",
    "plt.hist(df[df['split']=='test'][\"y\"], max(df['y']))"
   ]
  },
  {
   "cell_type": "code",
   "execution_count": 19,
   "metadata": {},
   "outputs": [
    {
     "data": {
      "text/plain": [
       "0      69487\n",
       "146    16282\n",
       "147    12408\n",
       "36      8440\n",
       "116     7414\n",
       "       ...  \n",
       "163        1\n",
       "105        1\n",
       "160        1\n",
       "169        1\n",
       "92         1\n",
       "Name: y, Length: 182, dtype: int64"
      ]
     },
     "execution_count": 19,
     "metadata": {},
     "output_type": "execute_result"
    }
   ],
   "source": [
    "df['y'].value_counts()"
   ]
  },
  {
   "cell_type": "code",
   "execution_count": 45,
   "metadata": {},
   "outputs": [
    {
     "data": {
      "text/plain": [
       "0      29487\n",
       "146    16282\n",
       "147    12408\n",
       "36      8440\n",
       "116     7414\n",
       "       ...  \n",
       "163        1\n",
       "105        1\n",
       "160        1\n",
       "169        1\n",
       "92         1\n",
       "Name: y, Length: 182, dtype: int64"
      ]
     },
     "execution_count": 45,
     "metadata": {},
     "output_type": "execute_result"
    }
   ],
   "source": [
    "seed = 42\n",
    "df[~df['filename'].isin(df[df['y']==0].sample(40000, random_state=seed)['filename'])]['y'].value_counts()"
   ]
  },
  {
   "cell_type": "code",
   "execution_count": 46,
   "metadata": {},
   "outputs": [
    {
     "name": "stderr",
     "output_type": "stream",
     "text": [
      "C:\\Users\\burki\\AppData\\Local\\Temp\\ipykernel_34168\\575786481.py:2: FutureWarning: iteritems is deprecated and will be removed in a future version. Use .items instead.\n",
      "  for i, file in df[~df['filename'].isin(df[df['y']==0].sample(40000, random_state=seed)['filename'])]['filename'].iteritems():\n"
     ]
    }
   ],
   "source": [
    "seed = 42\n",
    "for i, file in df[~df['filename'].isin(df[df['y']==0].sample(40000, random_state=seed)['filename'])]['filename'].iteritems():\n",
    "    shutil.copyfile(\"../data/iwildcam_v2.0/train/\"+file, \"../data/iwildcam_v2.0/filtered_train/\"+file)"
   ]
  },
  {
   "cell_type": "code",
   "execution_count": null,
   "metadata": {},
   "outputs": [],
   "source": []
  }
 ],
 "metadata": {
  "interpreter": {
   "hash": "112e4f9796bff1389c7aaca228036e28c82b8b9a351f8f37e64b0af380c1c116"
  },
  "kernelspec": {
   "display_name": "Python 3.10.9 ('iwild_classification')",
   "language": "python",
   "name": "python3"
  },
  "language_info": {
   "codemirror_mode": {
    "name": "ipython",
    "version": 3
   },
   "file_extension": ".py",
   "mimetype": "text/x-python",
   "name": "python",
   "nbconvert_exporter": "python",
   "pygments_lexer": "ipython3",
   "version": "3.10.9"
  },
  "orig_nbformat": 4
 },
 "nbformat": 4,
 "nbformat_minor": 2
}
