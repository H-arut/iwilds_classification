{
  "nbformat": 4,
  "nbformat_minor": 0,
  "metadata": {
    "colab": {
      "provenance": []
    },
    "kernelspec": {
      "name": "python3",
      "display_name": "Python 3"
    },
    "language_info": {
      "name": "python"
    }
  },
  "cells": [
    {
      "cell_type": "code",
      "execution_count": null,
      "metadata": {
        "id": "ykoAYtdGgvTr"
      },
      "outputs": [],
      "source": [
        "import os\n",
        "import json\n",
        "\n",
        "import numpy as np\n",
        "import pandas as pd\n",
        "import matplotlib.pyplot as plt\n",
        "import keras\n",
        "from keras import layers\n",
        "from keras.applications import DenseNet121\n",
        "from keras.callbacks import Callback, ModelCheckpoint\n",
        "from keras.preprocessing.image import ImageDataGenerator\n",
        "from keras.layers import Dense, Dropout, Activation, Flatten\n",
        "from keras.layers import Conv2D, MaxPooling2D\n",
        "from keras.models import Sequential\n",
        "from sklearn.model_selection import train_test_split\n",
        "from sklearn.metrics import confusion_matrix, f1_score, precision_score, recall_score"
      ]
    },
    {
      "cell_type": "code",
      "source": [
        "from google.colab import drive\n",
        "drive.mount('/content/drive')"
      ],
      "metadata": {
        "colab": {
          "base_uri": "https://localhost:8080/"
        },
        "id": "imXh1kl8qTed",
        "outputId": "d9ce315f-40a8-42c1-b1aa-277f328b1203"
      },
      "execution_count": null,
      "outputs": [
        {
          "output_type": "stream",
          "name": "stdout",
          "text": [
            "Drive already mounted at /content/drive; to attempt to forcibly remount, call drive.mount(\"/content/drive\", force_remount=True).\n"
          ]
        }
      ]
    },
    {
      "cell_type": "code",
      "source": [
        "DATA_PATH = \"/content/drive/MyDrive/Machine Learning/Images/\" # img path\n",
        "ANNOTATIONS_PATH  = \"/content/drive/MyDrive/Machine Learning/metadata_filtered.csv\""
      ],
      "metadata": {
        "id": "V7QhKhWhqd0d"
      },
      "execution_count": null,
      "outputs": []
    },
    {
      "cell_type": "code",
      "source": [
        "labels = pd.read_csv(ANNOTATIONS_PATH)"
      ],
      "metadata": {
        "id": "y8xKn5DYtudA"
      },
      "execution_count": null,
      "outputs": []
    },
    {
      "cell_type": "code",
      "source": [
        "X = np.load(DATA_PATH + \"imgarray_1.npy\")\n",
        "y = labels[\"y\"].values[:40000]"
      ],
      "metadata": {
        "id": "W6vgl7R5JWKQ"
      },
      "execution_count": null,
      "outputs": []
    },
    {
      "cell_type": "code",
      "source": [
        "#X = X.reshape(len(X), 32, 32, 3)"
      ],
      "metadata": {
        "colab": {
          "base_uri": "https://localhost:8080/",
          "height": 166
        },
        "id": "QiGURzFXd0bn",
        "outputId": "20bb1430-a70c-4a61-e0cb-45ca96c11663"
      },
      "execution_count": null,
      "outputs": [
        {
          "output_type": "error",
          "ename": "ValueError",
          "evalue": "ignored",
          "traceback": [
            "\u001b[0;31m---------------------------------------------------------------------------\u001b[0m",
            "\u001b[0;31mValueError\u001b[0m                                Traceback (most recent call last)",
            "\u001b[0;32m<ipython-input-15-75c70b77ffeb>\u001b[0m in \u001b[0;36m<module>\u001b[0;34m\u001b[0m\n\u001b[0;32m----> 1\u001b[0;31m \u001b[0mX\u001b[0m \u001b[0;34m=\u001b[0m \u001b[0mX\u001b[0m\u001b[0;34m.\u001b[0m\u001b[0mreshape\u001b[0m\u001b[0;34m(\u001b[0m\u001b[0mlen\u001b[0m\u001b[0;34m(\u001b[0m\u001b[0mX\u001b[0m\u001b[0;34m)\u001b[0m\u001b[0;34m,\u001b[0m \u001b[0;36m32\u001b[0m\u001b[0;34m,\u001b[0m \u001b[0;36m32\u001b[0m\u001b[0;34m,\u001b[0m \u001b[0;36m3\u001b[0m\u001b[0;34m)\u001b[0m\u001b[0;34m\u001b[0m\u001b[0;34m\u001b[0m\u001b[0m\n\u001b[0m",
            "\u001b[0;31mValueError\u001b[0m: cannot reshape array of size 7864320000 into shape (40000,32,32,3)"
          ]
        }
      ]
    },
    {
      "cell_type": "code",
      "source": [
        "print(len(X), len(y))"
      ],
      "metadata": {
        "colab": {
          "base_uri": "https://localhost:8080/"
        },
        "id": "9JUP0bzOt-o2",
        "outputId": "39d499c5-3962-4861-af2b-b2309f60193a"
      },
      "execution_count": null,
      "outputs": [
        {
          "output_type": "stream",
          "name": "stdout",
          "text": [
            "40000 40000\n"
          ]
        }
      ]
    },
    {
      "cell_type": "code",
      "source": [
        "np.shape(X)"
      ],
      "metadata": {
        "colab": {
          "base_uri": "https://localhost:8080/"
        },
        "id": "EukWw1pGe7NR",
        "outputId": "2d200845-f4de-4a77-932e-347b441c8ff8"
      },
      "execution_count": null,
      "outputs": [
        {
          "output_type": "execute_result",
          "data": {
            "text/plain": [
              "(40000, 256, 256, 3)"
            ]
          },
          "metadata": {},
          "execution_count": 7
        }
      ]
    },
    {
      "cell_type": "code",
      "source": [
        "plt.hist(y, bins=len(set(y)))"
      ],
      "metadata": {
        "colab": {
          "base_uri": "https://localhost:8080/",
          "height": 1000
        },
        "id": "d3S3MIST9Y51",
        "outputId": "87e4277b-ea6c-48c7-c393-5fc0542030f2"
      },
      "execution_count": null,
      "outputs": [
        {
          "output_type": "execute_result",
          "data": {
            "text/plain": [
              "(array([8.335e+03, 8.370e+02, 7.860e+02, 7.000e+00, 9.000e+01, 1.017e+03,\n",
              "        1.010e+02, 1.000e+00, 5.300e+01, 0.000e+00, 8.300e+02, 1.430e+02,\n",
              "        4.000e+00, 4.000e+01, 1.100e+01, 1.620e+02, 1.842e+03, 1.020e+02,\n",
              "        4.600e+01, 7.100e+01, 1.500e+01, 0.000e+00, 1.904e+03, 0.000e+00,\n",
              "        4.594e+03, 1.960e+02, 3.130e+02, 4.200e+01, 6.300e+01, 3.380e+02,\n",
              "        3.100e+01, 1.800e+01, 2.850e+02, 7.220e+02, 0.000e+00, 1.292e+03,\n",
              "        6.300e+01, 0.000e+00, 0.000e+00, 0.000e+00, 6.000e+00, 3.000e+00,\n",
              "        6.300e+01, 0.000e+00, 1.170e+02, 0.000e+00, 1.630e+02, 9.400e+01,\n",
              "        1.700e+01, 7.500e+01, 1.100e+01, 8.000e+00, 0.000e+00, 6.000e+00,\n",
              "        8.700e+01, 3.000e+00, 2.200e+01, 6.000e+00, 3.000e+00, 0.000e+00,\n",
              "        2.500e+02, 3.490e+02, 4.000e+01, 0.000e+00, 9.600e+01, 2.380e+02,\n",
              "        3.870e+02, 2.700e+01, 3.000e+00, 9.000e+00, 1.400e+01, 2.000e+00,\n",
              "        0.000e+00, 1.500e+01, 1.100e+01, 6.000e+00, 0.000e+00, 8.400e+01,\n",
              "        6.770e+02, 1.970e+02, 2.583e+03, 4.500e+01, 1.690e+02, 0.000e+00,\n",
              "        0.000e+00, 0.000e+00, 6.000e+00, 8.500e+01, 0.000e+00, 0.000e+00,\n",
              "        0.000e+00, 9.000e+00, 0.000e+00, 1.200e+01, 3.600e+01, 0.000e+00,\n",
              "        0.000e+00, 0.000e+00, 2.300e+01, 7.000e+00, 5.638e+03, 1.929e+03,\n",
              "        8.780e+02, 1.000e+01, 9.000e+01, 5.080e+02, 7.000e+01, 7.000e+01,\n",
              "        1.600e+01, 3.000e+00, 0.000e+00, 0.000e+00, 0.000e+00, 0.000e+00,\n",
              "        1.000e+00, 0.000e+00, 4.000e+00, 0.000e+00, 1.750e+02, 1.000e+01,\n",
              "        0.000e+00, 1.000e+01, 1.700e+02]),\n",
              " array([  0.        ,   1.44715447,   2.89430894,   4.34146341,\n",
              "          5.78861789,   7.23577236,   8.68292683,  10.1300813 ,\n",
              "         11.57723577,  13.02439024,  14.47154472,  15.91869919,\n",
              "         17.36585366,  18.81300813,  20.2601626 ,  21.70731707,\n",
              "         23.15447154,  24.60162602,  26.04878049,  27.49593496,\n",
              "         28.94308943,  30.3902439 ,  31.83739837,  33.28455285,\n",
              "         34.73170732,  36.17886179,  37.62601626,  39.07317073,\n",
              "         40.5203252 ,  41.96747967,  43.41463415,  44.86178862,\n",
              "         46.30894309,  47.75609756,  49.20325203,  50.6504065 ,\n",
              "         52.09756098,  53.54471545,  54.99186992,  56.43902439,\n",
              "         57.88617886,  59.33333333,  60.7804878 ,  62.22764228,\n",
              "         63.67479675,  65.12195122,  66.56910569,  68.01626016,\n",
              "         69.46341463,  70.91056911,  72.35772358,  73.80487805,\n",
              "         75.25203252,  76.69918699,  78.14634146,  79.59349593,\n",
              "         81.04065041,  82.48780488,  83.93495935,  85.38211382,\n",
              "         86.82926829,  88.27642276,  89.72357724,  91.17073171,\n",
              "         92.61788618,  94.06504065,  95.51219512,  96.95934959,\n",
              "         98.40650407,  99.85365854, 101.30081301, 102.74796748,\n",
              "        104.19512195, 105.64227642, 107.08943089, 108.53658537,\n",
              "        109.98373984, 111.43089431, 112.87804878, 114.32520325,\n",
              "        115.77235772, 117.2195122 , 118.66666667, 120.11382114,\n",
              "        121.56097561, 123.00813008, 124.45528455, 125.90243902,\n",
              "        127.3495935 , 128.79674797, 130.24390244, 131.69105691,\n",
              "        133.13821138, 134.58536585, 136.03252033, 137.4796748 ,\n",
              "        138.92682927, 140.37398374, 141.82113821, 143.26829268,\n",
              "        144.71544715, 146.16260163, 147.6097561 , 149.05691057,\n",
              "        150.50406504, 151.95121951, 153.39837398, 154.84552846,\n",
              "        156.29268293, 157.7398374 , 159.18699187, 160.63414634,\n",
              "        162.08130081, 163.52845528, 164.97560976, 166.42276423,\n",
              "        167.8699187 , 169.31707317, 170.76422764, 172.21138211,\n",
              "        173.65853659, 175.10569106, 176.55284553, 178.        ]),\n",
              " <a list of 123 Patch objects>)"
            ]
          },
          "metadata": {},
          "execution_count": 8
        },
        {
          "output_type": "display_data",
          "data": {
            "text/plain": [
              "<Figure size 432x288 with 1 Axes>"
            ],
            "image/png": "[encoded data removed]"
          },
          "metadata": {
            "needs_background": "light"
          }
        }
      ]
    },
    {
      "cell_type": "code",
      "source": [
        "seed=42\n",
        "test_size=10000\n",
        "test_set=labels.loc[:40000].sample(test_size, random_state=seed)## TODO exchange with train test split, with stratified classes\n",
        "train_set=labels.loc[:40000][~labels['filename'].isin(test_set['filename'])]\n",
        "test_set[\"y\"].hist(bins=test_set[\"y\"].nunique())"
      ],
      "metadata": {
        "colab": {
          "base_uri": "https://localhost:8080/",
          "height": 317
        },
        "id": "4018HKaX98PJ",
        "outputId": "8fa15a4e-b07b-4ae6-e716-58b844ab6197"
      },
      "execution_count": null,
      "outputs": [
        {
          "output_type": "stream",
          "name": "stderr",
          "text": [
            "<ipython-input-9-5d39643d807a>:4: UserWarning: Boolean Series key will be reindexed to match DataFrame index.\n",
            "  train_set=labels.loc[:40000][~labels['filename'].isin(test_set['filename'])]\n"
          ]
        },
        {
          "output_type": "execute_result",
          "data": {
            "text/plain": [
              "<matplotlib.axes._subplots.AxesSubplot at 0x7f1ae95e89a0>"
            ]
          },
          "metadata": {},
          "execution_count": 9
        },
        {
          "output_type": "display_data",
          "data": {
            "text/plain": [
              "<Figure size 432x288 with 1 Axes>"
            ],
            "image/png": "[encoded data removed]"
          },
          "metadata": {
            "needs_background": "light"
          }
        }
      ]
    },
    {
      "cell_type": "code",
      "source": [
        "labels[\"y\"].nunique()"
      ],
      "metadata": {
        "colab": {
          "base_uri": "https://localhost:8080/"
        },
        "id": "3cyzNbb5fhp2",
        "outputId": "7631b7a2-9ce1-4ba5-a181-0cdffbf760f3"
      },
      "execution_count": null,
      "outputs": [
        {
          "output_type": "execute_result",
          "data": {
            "text/plain": [
              "182"
            ]
          },
          "metadata": {},
          "execution_count": 10
        }
      ]
    },
    {
      "cell_type": "code",
      "source": [
        "y_onehot = keras.utils.to_categorical(y, num_classes=182)"
      ],
      "metadata": {
        "id": "dh8pJGhOgWqW"
      },
      "execution_count": null,
      "outputs": []
    },
    {
      "cell_type": "code",
      "source": [
        "from keras.preprocessing.image import ImageDataGenerator\n",
        "\n",
        "train_datagen = ImageDataGenerator(rescale=1./255)\n",
        "train_generator = train_datagen.flow(X, y,  batch_size=200)\n"
      ],
      "metadata": {
        "id": "XHlODdNw_caU"
      },
      "execution_count": null,
      "outputs": []
    },
    {
      "cell_type": "code",
      "source": [
        "class Metrics(Callback):\n",
        "    def on_train_begin(self, logs={}):\n",
        "        self.val_f1s = []\n",
        "        self.val_recalls = []\n",
        "        self.val_precisions = []\n",
        "\n",
        "    def on_epoch_end(self, epoch, logs={}):\n",
        "        X_val, y_val = self.validation_data[:2]\n",
        "        y_pred = self.model.predict(X_val)\n",
        "\n",
        "        y_pred_cat = keras.utils.to_categorical(\n",
        "            y_pred.argmax(axis=1),\n",
        "            num_classes=182\n",
        "        )\n",
        "\n",
        "        _val_f1 = f1_score(y_val, y_pred_cat, average='macro')\n",
        "        _val_recall = recall_score(y_val, y_pred_cat, average='macro')\n",
        "        _val_precision = precision_score(y_val, y_pred_cat, average='macro')\n",
        "\n",
        "        self.val_f1s.append(_val_f1)\n",
        "        self.val_recalls.append(_val_recall)\n",
        "        self.val_precisions.append(_val_precision)\n",
        "\n",
        "        print((f\"val_f1: {_val_f1:.4f}\"\n",
        "               f\" — val_precision: {_val_precision:.4f}\"\n",
        "               f\" — val_recall: {_val_recall:.4f}\"))\n",
        "\n",
        "        return\n",
        "\n",
        "f1_metrics = Metrics()"
      ],
      "metadata": {
        "id": "dAhj_J54gy1A"
      },
      "execution_count": null,
      "outputs": []
    },
    {
      "cell_type": "code",
      "source": [
        "  densenet = DenseNet121(\n",
        "      weights='imagenet',\n",
        "      include_top=False,\n",
        "      input_shape=(256,256,3)\n",
        "  )"
      ],
      "metadata": {
        "id": "_90jO7vtgyzN"
      },
      "execution_count": null,
      "outputs": []
    },
    {
      "cell_type": "code",
      "source": [
        "model = Sequential()\n",
        "model.add(densenet)\n",
        "model.add(layers.GlobalAveragePooling2D())\n",
        "model.add(layers.Dense(182, activation='softmax'))"
      ],
      "metadata": {
        "id": "q9eQGg2fgyxF"
      },
      "execution_count": null,
      "outputs": []
    },
    {
      "cell_type": "code",
      "source": [
        "model.compile(loss='categorical_crossentropy',\n",
        "              optimizer='adam',\n",
        "              metrics=['accuracy'])\n",
        "\n",
        "model.summary()"
      ],
      "metadata": {
        "id": "ZMvki0Qbgyu0",
        "colab": {
          "base_uri": "https://localhost:8080/"
        },
        "outputId": "49ade034-9595-4ebc-9ef6-d1697fecdf36"
      },
      "execution_count": null,
      "outputs": [
        {
          "output_type": "stream",
          "name": "stdout",
          "text": [
            "Model: \"sequential\"\n",
            "_________________________________________________________________\n",
            " Layer (type)                Output Shape              Param #   \n",
            "=================================================================\n",
            " densenet121 (Functional)    (None, 8, 8, 1024)        7037504   \n",
            "                                                                 \n",
            " global_average_pooling2d (G  (None, 1024)             0         \n",
            " lobalAveragePooling2D)                                          \n",
            "                                                                 \n",
            " dense (Dense)               (None, 182)               186550    \n",
            "                                                                 \n",
            "=================================================================\n",
            "Total params: 7,224,054\n",
            "Trainable params: 7,140,406\n",
            "Non-trainable params: 83,648\n",
            "_________________________________________________________________\n"
          ]
        }
      ]
    },
    {
      "cell_type": "code",
      "source": [
        "model.compile(\n",
        "    loss='categorical_crossentropy',\n",
        "    optimizer='adam',\n",
        "    metrics=['accuracy']\n",
        ")\n",
        "\n",
        "checkpoint = ModelCheckpoint(\n",
        "    DATA_PATH + 'model.h5', \n",
        "    monitor='val_acc', \n",
        "    verbose=1, \n",
        "    save_best_only=True, \n",
        "    save_weights_only=False,\n",
        "    mode='auto'\n",
        ")\n",
        "\n",
        "history = model.fit(\n",
        "    x=X,\n",
        "    y=y,\n",
        "    batch_size=64,\n",
        "    epochs=7,\n",
        "    callbacks=[checkpoint, f1_metrics],\n",
        "    validation_split=0.1\n",
        ")"
      ],
      "metadata": {
        "id": "LIL6hSDHgyso",
        "colab": {
          "base_uri": "https://localhost:8080/",
          "height": 798
        },
        "outputId": "e803508b-ee61-433f-ccd9-0af877b47284"
      },
      "execution_count": null,
      "outputs": [
        {
          "output_type": "stream",
          "name": "stdout",
          "text": [
            "Epoch 1/7\n"
          ]
        },
        {
          "output_type": "error",
          "ename": "ValueError",
          "evalue": "ignored",
          "traceback": [
            "\u001b[0;31m---------------------------------------------------------------------------\u001b[0m",
            "\u001b[0;31mValueError\u001b[0m                                Traceback (most recent call last)",
            "\u001b[0;32m<ipython-input-16-a75b34200caa>\u001b[0m in \u001b[0;36m<module>\u001b[0;34m\u001b[0m\n\u001b[1;32m     14\u001b[0m )\n\u001b[1;32m     15\u001b[0m \u001b[0;34m\u001b[0m\u001b[0m\n\u001b[0;32m---> 16\u001b[0;31m history = model.fit(\n\u001b[0m\u001b[1;32m     17\u001b[0m     \u001b[0mx\u001b[0m\u001b[0;34m=\u001b[0m\u001b[0mX\u001b[0m\u001b[0;34m,\u001b[0m\u001b[0;34m\u001b[0m\u001b[0;34m\u001b[0m\u001b[0m\n\u001b[1;32m     18\u001b[0m     \u001b[0my\u001b[0m\u001b[0;34m=\u001b[0m\u001b[0my\u001b[0m\u001b[0;34m,\u001b[0m\u001b[0;34m\u001b[0m\u001b[0;34m\u001b[0m\u001b[0m\n",
            "\u001b[0;32m/usr/local/lib/python3.8/dist-packages/keras/utils/traceback_utils.py\u001b[0m in \u001b[0;36merror_handler\u001b[0;34m(*args, **kwargs)\u001b[0m\n\u001b[1;32m     65\u001b[0m     \u001b[0;32mexcept\u001b[0m \u001b[0mException\u001b[0m \u001b[0;32mas\u001b[0m \u001b[0me\u001b[0m\u001b[0;34m:\u001b[0m  \u001b[0;31m# pylint: disable=broad-except\u001b[0m\u001b[0;34m\u001b[0m\u001b[0;34m\u001b[0m\u001b[0m\n\u001b[1;32m     66\u001b[0m       \u001b[0mfiltered_tb\u001b[0m \u001b[0;34m=\u001b[0m \u001b[0m_process_traceback_frames\u001b[0m\u001b[0;34m(\u001b[0m\u001b[0me\u001b[0m\u001b[0;34m.\u001b[0m\u001b[0m__traceback__\u001b[0m\u001b[0;34m)\u001b[0m\u001b[0;34m\u001b[0m\u001b[0;34m\u001b[0m\u001b[0m\n\u001b[0;32m---> 67\u001b[0;31m       \u001b[0;32mraise\u001b[0m \u001b[0me\u001b[0m\u001b[0;34m.\u001b[0m\u001b[0mwith_traceback\u001b[0m\u001b[0;34m(\u001b[0m\u001b[0mfiltered_tb\u001b[0m\u001b[0;34m)\u001b[0m \u001b[0;32mfrom\u001b[0m \u001b[0;32mNone\u001b[0m\u001b[0;34m\u001b[0m\u001b[0;34m\u001b[0m\u001b[0m\n\u001b[0m\u001b[1;32m     68\u001b[0m     \u001b[0;32mfinally\u001b[0m\u001b[0;34m:\u001b[0m\u001b[0;34m\u001b[0m\u001b[0;34m\u001b[0m\u001b[0m\n\u001b[1;32m     69\u001b[0m       \u001b[0;32mdel\u001b[0m \u001b[0mfiltered_tb\u001b[0m\u001b[0;34m\u001b[0m\u001b[0;34m\u001b[0m\u001b[0m\n",
            "\u001b[0;32m/usr/local/lib/python3.8/dist-packages/keras/engine/training.py\u001b[0m in \u001b[0;36mtf__train_function\u001b[0;34m(iterator)\u001b[0m\n\u001b[1;32m     13\u001b[0m                 \u001b[0;32mtry\u001b[0m\u001b[0;34m:\u001b[0m\u001b[0;34m\u001b[0m\u001b[0;34m\u001b[0m\u001b[0m\n\u001b[1;32m     14\u001b[0m                     \u001b[0mdo_return\u001b[0m \u001b[0;34m=\u001b[0m \u001b[0;32mTrue\u001b[0m\u001b[0;34m\u001b[0m\u001b[0;34m\u001b[0m\u001b[0m\n\u001b[0;32m---> 15\u001b[0;31m                     \u001b[0mretval_\u001b[0m \u001b[0;34m=\u001b[0m \u001b[0mag__\u001b[0m\u001b[0;34m.\u001b[0m\u001b[0mconverted_call\u001b[0m\u001b[0;34m(\u001b[0m\u001b[0mag__\u001b[0m\u001b[0;34m.\u001b[0m\u001b[0mld\u001b[0m\u001b[0;34m(\u001b[0m\u001b[0mstep_function\u001b[0m\u001b[0;34m)\u001b[0m\u001b[0;34m,\u001b[0m \u001b[0;34m(\u001b[0m\u001b[0mag__\u001b[0m\u001b[0;34m.\u001b[0m\u001b[0mld\u001b[0m\u001b[0;34m(\u001b[0m\u001b[0mself\u001b[0m\u001b[0;34m)\u001b[0m\u001b[0;34m,\u001b[0m \u001b[0mag__\u001b[0m\u001b[0;34m.\u001b[0m\u001b[0mld\u001b[0m\u001b[0;34m(\u001b[0m\u001b[0miterator\u001b[0m\u001b[0;34m)\u001b[0m\u001b[0;34m)\u001b[0m\u001b[0;34m,\u001b[0m \u001b[0;32mNone\u001b[0m\u001b[0;34m,\u001b[0m \u001b[0mfscope\u001b[0m\u001b[0;34m)\u001b[0m\u001b[0;34m\u001b[0m\u001b[0;34m\u001b[0m\u001b[0m\n\u001b[0m\u001b[1;32m     16\u001b[0m                 \u001b[0;32mexcept\u001b[0m\u001b[0;34m:\u001b[0m\u001b[0;34m\u001b[0m\u001b[0;34m\u001b[0m\u001b[0m\n\u001b[1;32m     17\u001b[0m                     \u001b[0mdo_return\u001b[0m \u001b[0;34m=\u001b[0m \u001b[0;32mFalse\u001b[0m\u001b[0;34m\u001b[0m\u001b[0;34m\u001b[0m\u001b[0m\n",
            "\u001b[0;31mValueError\u001b[0m: in user code:\n\n    File \"/usr/local/lib/python3.8/dist-packages/keras/engine/training.py\", line 1051, in train_function  *\n        return step_function(self, iterator)\n    File \"/usr/local/lib/python3.8/dist-packages/keras/engine/training.py\", line 1040, in step_function  **\n        outputs = model.distribute_strategy.run(run_step, args=(data,))\n    File \"/usr/local/lib/python3.8/dist-packages/keras/engine/training.py\", line 1030, in run_step  **\n        outputs = model.train_step(data)\n    File \"/usr/local/lib/python3.8/dist-packages/keras/engine/training.py\", line 890, in train_step\n        loss = self.compute_loss(x, y, y_pred, sample_weight)\n    File \"/usr/local/lib/python3.8/dist-packages/keras/engine/training.py\", line 948, in compute_loss\n        return self.compiled_loss(\n    File \"/usr/local/lib/python3.8/dist-packages/keras/engine/compile_utils.py\", line 201, in __call__\n        loss_value = loss_obj(y_t, y_p, sample_weight=sw)\n    File \"/usr/local/lib/python3.8/dist-packages/keras/losses.py\", line 139, in __call__\n        losses = call_fn(y_true, y_pred)\n    File \"/usr/local/lib/python3.8/dist-packages/keras/losses.py\", line 243, in call  **\n        return ag_fn(y_true, y_pred, **self._fn_kwargs)\n    File \"/usr/local/lib/python3.8/dist-packages/keras/losses.py\", line 1787, in categorical_crossentropy\n        return backend.categorical_crossentropy(\n    File \"/usr/local/lib/python3.8/dist-packages/keras/backend.py\", line 5119, in categorical_crossentropy\n        target.shape.assert_is_compatible_with(output.shape)\n\n    ValueError: Shapes (None, 1) and (None, 182) are incompatible\n"
          ]
        }
      ]
    },
    {
      "cell_type": "code",
      "source": [
        "with open('history.json', 'w') as f:\n",
        "    json.dump(history.history, f)\n",
        "\n",
        "history_df = pd.DataFrame(history.history)\n",
        "history_df['val_f1'] = f1_metrics.val_f1s\n",
        "history_df['val_precision'] = f1_metrics.val_precisions\n",
        "history_df['val_recall'] = f1_metrics.val_recalls\n",
        "history_df[['loss', 'val_loss']].plot()\n",
        "history_df[['acc', 'val_acc']].plot()\n",
        "history_df[['val_f1', 'val_precision', 'val_recall']].plot()"
      ],
      "metadata": {
        "id": "xYV5jouvgyqj"
      },
      "execution_count": null,
      "outputs": []
    },
    {
      "cell_type": "code",
      "source": [
        "model.load_weights('model.h5')\n",
        "y_test = model.predict(x_test)\n",
        "\n",
        "submission_df = pd.read_csv('../input/iwildcam-2019-fgvc6/sample_submission.csv')\n",
        "submission_df['Predicted'] = y_test.argmax(axis=1)\n",
        "\n",
        "print(submission_df.shape)\n",
        "submission_df.head()"
      ],
      "metadata": {
        "id": "4ChIRIhngyoQ"
      },
      "execution_count": null,
      "outputs": []
    },
    {
      "cell_type": "code",
      "source": [
        "submission_df.to_csv('submission.csv',index=False)"
      ],
      "metadata": {
        "id": "na10wXg4gymh"
      },
      "execution_count": null,
      "outputs": []
    },
    {
      "cell_type": "code",
      "source": [],
      "metadata": {
        "id": "aV_P2N-YgykW"
      },
      "execution_count": null,
      "outputs": []
    },
    {
      "cell_type": "code",
      "source": [],
      "metadata": {
        "id": "m_TGEbiNgyh9"
      },
      "execution_count": null,
      "outputs": []
    }
  ]
}